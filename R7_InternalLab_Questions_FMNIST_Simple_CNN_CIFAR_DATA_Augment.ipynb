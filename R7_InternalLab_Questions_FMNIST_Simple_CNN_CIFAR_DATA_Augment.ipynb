{
  "nbformat": 4,
  "nbformat_minor": 0,
  "metadata": {
    "colab": {
      "name": "R7_InternalLab_Questions_FMNIST_Simple_CNN_CIFAR_DATA_Augment.ipynb",
      "version": "0.3.2",
      "provenance": [],
      "collapsed_sections": []
    },
    "kernelspec": {
      "name": "python3",
      "display_name": "Python 3"
    },
    "accelerator": "GPU"
  },
  "cells": [
    {
      "cell_type": "markdown",
      "metadata": {
        "id": "MyfMmMnPJjvn",
        "colab_type": "text"
      },
      "source": [
        "## Train a simple convnet on the Fashion MNIST dataset"
      ]
    },
    {
      "cell_type": "markdown",
      "metadata": {
        "id": "zjcGOJhcJjvp",
        "colab_type": "text"
      },
      "source": [
        "In this, we will see how to deal with image data and train a convnet for image classification task."
      ]
    },
    {
      "cell_type": "markdown",
      "metadata": {
        "id": "jR0Pl2XjJjvq",
        "colab_type": "text"
      },
      "source": [
        "### Load the  `fashion_mnist`  dataset\n",
        "\n",
        "** Use keras.datasets to load the dataset **"
      ]
    },
    {
      "cell_type": "code",
      "metadata": {
        "id": "Qr75v_UYJjvs",
        "colab_type": "code",
        "colab": {}
      },
      "source": [
        "tf.keras.backend.clear_session()"
      ],
      "execution_count": 0,
      "outputs": []
    },
    {
      "cell_type": "code",
      "metadata": {
        "id": "030zI1n0VD3-",
        "colab_type": "code",
        "colab": {}
      },
      "source": [
        "from keras.datasets import fashion_mnist\n",
        "(x_train, y_train), (x_test, y_test) = fashion_mnist.load_data()"
      ],
      "execution_count": 0,
      "outputs": []
    },
    {
      "cell_type": "code",
      "metadata": {
        "id": "U5QEpIV8UWw6",
        "colab_type": "code",
        "colab": {}
      },
      "source": [
        "import tensorflow as tf\n",
        "tf.reset_default_graph()\n",
        "tf.set_random_seed(42)"
      ],
      "execution_count": 0,
      "outputs": []
    },
    {
      "cell_type": "markdown",
      "metadata": {
        "id": "hTI42-0qJjvw",
        "colab_type": "text"
      },
      "source": [
        "### Find no.of samples are there in training and test datasets"
      ]
    },
    {
      "cell_type": "code",
      "metadata": {
        "id": "g2sf67VoJjvx",
        "colab_type": "code",
        "colab": {}
      },
      "source": [
        "#Number of samples available in training dataset\n",
        "print('Train: X=%s, y=%s' % (x_train.shape, y_train.shape))"
      ],
      "execution_count": 0,
      "outputs": []
    },
    {
      "cell_type": "code",
      "metadata": {
        "id": "zewyDcBlJjv1",
        "colab_type": "code",
        "outputId": "27d137f2-bf13-4869-e426-5d01042dc572",
        "colab": {
          "base_uri": "https://localhost:8080/",
          "height": 35
        }
      },
      "source": [
        "#Number of samples available in test dataset\n",
        "print('Train: X=%s, y=%s' % (x_test.shape, y_test.shape))"
      ],
      "execution_count": 85,
      "outputs": [
        {
          "output_type": "stream",
          "text": [
            "Train: X=(10000, 28, 28), y=(10000,)\n"
          ],
          "name": "stdout"
        }
      ]
    },
    {
      "cell_type": "markdown",
      "metadata": {
        "id": "WytT2eRnJjv4",
        "colab_type": "text"
      },
      "source": [
        "### Find dimensions of an image in the dataset"
      ]
    },
    {
      "cell_type": "code",
      "metadata": {
        "id": "XycQGBSGJjv5",
        "colab_type": "code",
        "outputId": "9ed089db-59e2-4969-eceb-d811ff44e18f",
        "colab": {
          "base_uri": "https://localhost:8080/",
          "height": 35
        }
      },
      "source": [
        "# Find the dimension of first data from training\n",
        "x_train[0,:,:].shape"
      ],
      "execution_count": 86,
      "outputs": [
        {
          "output_type": "execute_result",
          "data": {
            "text/plain": [
              "(28, 28)"
            ]
          },
          "metadata": {
            "tags": []
          },
          "execution_count": 86
        }
      ]
    },
    {
      "cell_type": "markdown",
      "metadata": {
        "id": "5jtdZ7RqJjv8",
        "colab_type": "text"
      },
      "source": [
        "### Convert train and test labels to one hot vectors\n",
        "\n",
        "** check `keras.utils.to_categorical()` **"
      ]
    },
    {
      "cell_type": "code",
      "metadata": {
        "id": "sAD3q5I6Jjv9",
        "colab_type": "code",
        "colab": {}
      },
      "source": [
        "# one hot encode training values\n",
        "y_train = tf.keras.utils.to_categorical(y_train)"
      ],
      "execution_count": 0,
      "outputs": []
    },
    {
      "cell_type": "code",
      "metadata": {
        "id": "mgHSCXy3JjwA",
        "colab_type": "code",
        "colab": {}
      },
      "source": [
        "# one hot encode test values\n",
        "y_test = tf.keras.utils.to_categorical(y_test)"
      ],
      "execution_count": 0,
      "outputs": []
    },
    {
      "cell_type": "markdown",
      "metadata": {
        "id": "xO5BRBzBJjwD",
        "colab_type": "text"
      },
      "source": [
        "### Normalize both the train and test image data from 0-255 to 0-1"
      ]
    },
    {
      "cell_type": "code",
      "metadata": {
        "id": "3fUQpMHxJjwE",
        "colab_type": "code",
        "colab": {}
      },
      "source": [
        "# First convert train and test data to float\n",
        "TrainX = x_train.astype('float32')\n",
        "TestX = x_test.astype('float32')"
      ],
      "execution_count": 0,
      "outputs": []
    },
    {
      "cell_type": "code",
      "metadata": {
        "id": "Okwo_SB5JjwI",
        "colab_type": "code",
        "colab": {}
      },
      "source": [
        "# Now convert the data to 0-1\n",
        "TrainX = TrainX/255.0\n",
        "TestX = TestX/255.0"
      ],
      "execution_count": 0,
      "outputs": []
    },
    {
      "cell_type": "markdown",
      "metadata": {
        "id": "da5-DwgrJjwM",
        "colab_type": "text"
      },
      "source": [
        "### Reshape the data from 28x28 to 28x28x1 to match input dimensions in Conv2D layer in keras"
      ]
    },
    {
      "cell_type": "code",
      "metadata": {
        "id": "LPGVQ-JJJjwN",
        "colab_type": "code",
        "colab": {}
      },
      "source": [
        "TrainX = TrainX.reshape((TrainX.shape[0], 28, 28, 1))\n",
        "TestX = TestX.reshape((TestX.shape[0], 28, 28, 1))"
      ],
      "execution_count": 0,
      "outputs": []
    },
    {
      "cell_type": "markdown",
      "metadata": {
        "id": "OFRRTJq8JjwQ",
        "colab_type": "text"
      },
      "source": [
        "### Import the necessary layers from keras to build the model"
      ]
    },
    {
      "cell_type": "code",
      "metadata": {
        "id": "blf6zk9ZAGpB",
        "colab_type": "code",
        "colab": {}
      },
      "source": [
        "#Define some parameters\n",
        "img_size = 28\n",
        "img_depth = 1\n",
        "batchsize = 32"
      ],
      "execution_count": 0,
      "outputs": []
    },
    {
      "cell_type": "code",
      "metadata": {
        "id": "O5fgwiSaVBBC",
        "colab_type": "code",
        "colab": {}
      },
      "source": [
        "tf.keras.backend.clear_session()"
      ],
      "execution_count": 0,
      "outputs": []
    },
    {
      "cell_type": "code",
      "metadata": {
        "id": "dWTZYnKSJjwR",
        "colab_type": "code",
        "colab": {}
      },
      "source": [
        "#Initialize model, reshape & normalize data\n",
        "model = tf.keras.models.Sequential()"
      ],
      "execution_count": 0,
      "outputs": []
    },
    {
      "cell_type": "markdown",
      "metadata": {
        "id": "C18AoS7eJjwU",
        "colab_type": "text"
      },
      "source": [
        "### Build a model \n",
        "\n",
        "** with 2 Conv layers having `32 3x3 filters` in both convolutions with `relu activations` and `flatten` before passing the feature map into 2 fully connected layers (or Dense Layers) having 128 and 10 neurons with `relu` and `softmax` activations respectively. Now, using `categorical_crossentropy` loss with `adam` optimizer train the model with early stopping `patience=5` and no.of `epochs=10`. **"
      ]
    },
    {
      "cell_type": "code",
      "metadata": {
        "id": "DORCLgSwJjwV",
        "colab_type": "code",
        "outputId": "98c0dd03-553f-4a3b-aecf-070583eb9765",
        "colab": {
          "base_uri": "https://localhost:8080/",
          "height": 399
        }
      },
      "source": [
        "model.add(tf.keras.layers.Conv2D(32, kernel_size=(3,3), activation='relu'))\n",
        "model.add(tf.keras.layers.Conv2D(32, kernel_size=(3,3), activation='relu'))\n",
        "model.add(tf.keras.layers.Flatten())\n",
        "model.add(tf.keras.layers.Dense(128, activation='relu'))\n",
        "model.add(tf.keras.layers.Dense(10, activation='softmax'))\n",
        "model.compile(optimizer='adam', loss='categorical_crossentropy', metrics=['accuracy'])\n",
        "model.fit(TrainX,y_train,          \n",
        "          validation_data=(TestX,y_test),\n",
        "          epochs=10,\n",
        "          batch_size = 32)"
      ],
      "execution_count": 100,
      "outputs": [
        {
          "output_type": "stream",
          "text": [
            "Train on 60000 samples, validate on 10000 samples\n",
            "Epoch 1/10\n",
            "60000/60000 [==============================] - 8s 133us/sample - loss: 0.3754 - acc: 0.8654 - val_loss: 0.2956 - val_acc: 0.8910\n",
            "Epoch 2/10\n",
            "60000/60000 [==============================] - 8s 128us/sample - loss: 0.2318 - acc: 0.9146 - val_loss: 0.2512 - val_acc: 0.9111\n",
            "Epoch 3/10\n",
            "60000/60000 [==============================] - 8s 128us/sample - loss: 0.1698 - acc: 0.9357 - val_loss: 0.2457 - val_acc: 0.9126\n",
            "Epoch 4/10\n",
            "60000/60000 [==============================] - 8s 127us/sample - loss: 0.1172 - acc: 0.9567 - val_loss: 0.2905 - val_acc: 0.9093\n",
            "Epoch 5/10\n",
            "60000/60000 [==============================] - 8s 128us/sample - loss: 0.0782 - acc: 0.9706 - val_loss: 0.3290 - val_acc: 0.9092\n",
            "Epoch 6/10\n",
            "60000/60000 [==============================] - 8s 127us/sample - loss: 0.0527 - acc: 0.9810 - val_loss: 0.3658 - val_acc: 0.9162\n",
            "Epoch 7/10\n",
            "60000/60000 [==============================] - 8s 127us/sample - loss: 0.0385 - acc: 0.9867 - val_loss: 0.4137 - val_acc: 0.9123\n",
            "Epoch 8/10\n",
            "60000/60000 [==============================] - 8s 127us/sample - loss: 0.0269 - acc: 0.9898 - val_loss: 0.4862 - val_acc: 0.9142\n",
            "Epoch 9/10\n",
            "60000/60000 [==============================] - 8s 127us/sample - loss: 0.0227 - acc: 0.9923 - val_loss: 0.5277 - val_acc: 0.9137\n",
            "Epoch 10/10\n",
            "60000/60000 [==============================] - 8s 127us/sample - loss: 0.0204 - acc: 0.9930 - val_loss: 0.5530 - val_acc: 0.9082\n"
          ],
          "name": "stdout"
        },
        {
          "output_type": "execute_result",
          "data": {
            "text/plain": [
              "<tensorflow.python.keras.callbacks.History at 0x7fd359533a20>"
            ]
          },
          "metadata": {
            "tags": []
          },
          "execution_count": 100
        }
      ]
    },
    {
      "cell_type": "code",
      "metadata": {
        "id": "qUZZ9ncyDOAt",
        "colab_type": "code",
        "colab": {}
      },
      "source": [
        "#from tf.keras.callbacks import EarlyStopping\n",
        "es = tf.keras.callbacks.EarlyStopping(monitor='val_loss', min_delta=0, patience=5, verbose=0, mode='auto', baseline=None, restore_best_weights=False)"
      ],
      "execution_count": 0,
      "outputs": []
    },
    {
      "cell_type": "code",
      "metadata": {
        "id": "V-Yj8EaqCLSy",
        "colab_type": "code",
        "outputId": "c5b975f3-74b1-46b2-d33d-bd758499623c",
        "colab": {
          "base_uri": "https://localhost:8080/",
          "height": 260
        }
      },
      "source": [
        "\n",
        "model.fit(TrainX,y_train,          \n",
        "          validation_data=(TestX,y_test),\n",
        "          epochs=10,\n",
        "          batch_size = 32,\n",
        "          callbacks= [es])"
      ],
      "execution_count": 104,
      "outputs": [
        {
          "output_type": "stream",
          "text": [
            "Train on 60000 samples, validate on 10000 samples\n",
            "Epoch 1/10\n",
            "60000/60000 [==============================] - 8s 133us/sample - loss: 0.0169 - acc: 0.9941 - val_loss: 0.5644 - val_acc: 0.9104\n",
            "Epoch 2/10\n",
            "60000/60000 [==============================] - 8s 130us/sample - loss: 0.0163 - acc: 0.9944 - val_loss: 0.6883 - val_acc: 0.9086\n",
            "Epoch 3/10\n",
            "60000/60000 [==============================] - 8s 131us/sample - loss: 0.0143 - acc: 0.9952 - val_loss: 0.6160 - val_acc: 0.9090\n",
            "Epoch 4/10\n",
            "60000/60000 [==============================] - 8s 128us/sample - loss: 0.0138 - acc: 0.9950 - val_loss: 0.6743 - val_acc: 0.9122\n",
            "Epoch 5/10\n",
            "60000/60000 [==============================] - 8s 128us/sample - loss: 0.0123 - acc: 0.9959 - val_loss: 0.6535 - val_acc: 0.9129\n",
            "Epoch 6/10\n",
            "60000/60000 [==============================] - 8s 128us/sample - loss: 0.0107 - acc: 0.9964 - val_loss: 0.7649 - val_acc: 0.9127\n"
          ],
          "name": "stdout"
        },
        {
          "output_type": "execute_result",
          "data": {
            "text/plain": [
              "<tensorflow.python.keras.callbacks.History at 0x7fd3595c8198>"
            ]
          },
          "metadata": {
            "tags": []
          },
          "execution_count": 104
        }
      ]
    },
    {
      "cell_type": "markdown",
      "metadata": {
        "id": "ju69vKdIJjwX",
        "colab_type": "text"
      },
      "source": [
        "### Now, to the above model add `max` pooling layer of `filter size 2x2` and `dropout` layer with `p=0.25` after the 2 conv layers and run the model"
      ]
    },
    {
      "cell_type": "code",
      "metadata": {
        "id": "L2hAP94vJjwY",
        "colab_type": "code",
        "colab": {
          "base_uri": "https://localhost:8080/",
          "height": 433
        },
        "outputId": "3f1702fa-6c5a-4b0e-ea6b-2d283486d411"
      },
      "source": [
        "#Initialize model, reshape & normalize data\n",
        "model = tf.keras.models.Sequential()\n",
        "# Define input layer\n",
        "model.add(tf.keras.layers.BatchNormalization(input_shape=(img_size,img_size,1,)))\n",
        "model.add(tf.keras.layers.Conv2D(32, kernel_size=(3,3), activation='relu'))\n",
        "model.add(tf.keras.layers.Conv2D(32, kernel_size=(3,3), activation='relu'))\n",
        "model.add(tf.keras.layers.MaxPool2D(pool_size=(2,2)))\n",
        "model.add(tf.keras.layers.Dropout(0.25))\n",
        "model.add(tf.keras.layers.Flatten())\n",
        "model.add(tf.keras.layers.Dense(128, activation='relu'))\n",
        "model.add(tf.keras.layers.Dense(10, activation='softmax'))\n",
        "model.compile(optimizer='adam', loss='categorical_crossentropy', metrics=['accuracy'])\n",
        "model.summary()"
      ],
      "execution_count": 105,
      "outputs": [
        {
          "output_type": "stream",
          "text": [
            "Model: \"sequential_3\"\n",
            "_________________________________________________________________\n",
            "Layer (type)                 Output Shape              Param #   \n",
            "=================================================================\n",
            "batch_normalization_1 (Batch (None, 28, 28, 1)         4         \n",
            "_________________________________________________________________\n",
            "conv2d_10 (Conv2D)           (None, 26, 26, 32)        320       \n",
            "_________________________________________________________________\n",
            "conv2d_11 (Conv2D)           (None, 24, 24, 32)        9248      \n",
            "_________________________________________________________________\n",
            "max_pooling2d (MaxPooling2D) (None, 12, 12, 32)        0         \n",
            "_________________________________________________________________\n",
            "dropout (Dropout)            (None, 12, 12, 32)        0         \n",
            "_________________________________________________________________\n",
            "flatten_5 (Flatten)          (None, 4608)              0         \n",
            "_________________________________________________________________\n",
            "dense_10 (Dense)             (None, 128)               589952    \n",
            "_________________________________________________________________\n",
            "dense_11 (Dense)             (None, 10)                1290      \n",
            "=================================================================\n",
            "Total params: 600,814\n",
            "Trainable params: 600,812\n",
            "Non-trainable params: 2\n",
            "_________________________________________________________________\n"
          ],
          "name": "stdout"
        }
      ]
    },
    {
      "cell_type": "code",
      "metadata": {
        "id": "qTeXUpNMP3H0",
        "colab_type": "code",
        "colab": {
          "base_uri": "https://localhost:8080/",
          "height": 399
        },
        "outputId": "ca6e4ef6-63d8-4cbd-a50a-2e0c439f37f1"
      },
      "source": [
        "model.fit(TrainX,y_train,          \n",
        "          validation_data=(TestX,y_test),\n",
        "          epochs=10,\n",
        "          batch_size = 32) "
      ],
      "execution_count": 106,
      "outputs": [
        {
          "output_type": "stream",
          "text": [
            "Train on 60000 samples, validate on 10000 samples\n",
            "Epoch 1/10\n",
            "60000/60000 [==============================] - 8s 132us/sample - loss: 0.3686 - acc: 0.8673 - val_loss: 0.2819 - val_acc: 0.8961\n",
            "Epoch 2/10\n",
            "60000/60000 [==============================] - 7s 122us/sample - loss: 0.2429 - acc: 0.9107 - val_loss: 0.2413 - val_acc: 0.9115\n",
            "Epoch 3/10\n",
            "60000/60000 [==============================] - 8s 125us/sample - loss: 0.1962 - acc: 0.9260 - val_loss: 0.2253 - val_acc: 0.9195\n",
            "Epoch 4/10\n",
            "60000/60000 [==============================] - 7s 124us/sample - loss: 0.1615 - acc: 0.9391 - val_loss: 0.2265 - val_acc: 0.9216\n",
            "Epoch 5/10\n",
            "60000/60000 [==============================] - 7s 123us/sample - loss: 0.1352 - acc: 0.9490 - val_loss: 0.2305 - val_acc: 0.9256\n",
            "Epoch 6/10\n",
            "60000/60000 [==============================] - 7s 123us/sample - loss: 0.1122 - acc: 0.9566 - val_loss: 0.2497 - val_acc: 0.9228\n",
            "Epoch 7/10\n",
            "60000/60000 [==============================] - 7s 122us/sample - loss: 0.0945 - acc: 0.9644 - val_loss: 0.2537 - val_acc: 0.9234\n",
            "Epoch 8/10\n",
            "60000/60000 [==============================] - 7s 123us/sample - loss: 0.0836 - acc: 0.9687 - val_loss: 0.2913 - val_acc: 0.9214\n",
            "Epoch 9/10\n",
            "60000/60000 [==============================] - 7s 122us/sample - loss: 0.0747 - acc: 0.9713 - val_loss: 0.2932 - val_acc: 0.9223\n",
            "Epoch 10/10\n",
            "60000/60000 [==============================] - 7s 123us/sample - loss: 0.0639 - acc: 0.9763 - val_loss: 0.2981 - val_acc: 0.9259\n"
          ],
          "name": "stdout"
        },
        {
          "output_type": "execute_result",
          "data": {
            "text/plain": [
              "<tensorflow.python.keras.callbacks.History at 0x7fd3590fce10>"
            ]
          },
          "metadata": {
            "tags": []
          },
          "execution_count": 106
        }
      ]
    },
    {
      "cell_type": "markdown",
      "metadata": {
        "id": "lGTA3bfEJjwa",
        "colab_type": "text"
      },
      "source": [
        "### Now, to the above model, lets add Data Augmentation "
      ]
    },
    {
      "cell_type": "markdown",
      "metadata": {
        "id": "F6gX8n5SJjwb",
        "colab_type": "text"
      },
      "source": [
        "### Import the ImageDataGenrator from keras and fit the training images"
      ]
    },
    {
      "cell_type": "code",
      "metadata": {
        "id": "Cbz4uHBuJjwc",
        "colab_type": "code",
        "colab": {}
      },
      "source": [
        "datagen = tf.keras.preprocessing.image.ImageDataGenerator(rotation_range=20,\n",
        "                                                                   width_shift_range=0.2,\n",
        "                                                                   height_shift_range=0.2,\n",
        "                                                                   horizontal_flip=True)\n",
        "datagen.fit(TrainX)"
      ],
      "execution_count": 0,
      "outputs": []
    },
    {
      "cell_type": "markdown",
      "metadata": {
        "id": "pl-8dOo7Jjwf",
        "colab_type": "text"
      },
      "source": [
        "#### Showing 5 versions of the first image in training dataset using image datagenerator.flow()"
      ]
    },
    {
      "cell_type": "code",
      "metadata": {
        "scrolled": true,
        "id": "DpI1_McYJjwg",
        "colab_type": "code",
        "colab": {
          "base_uri": "https://localhost:8080/",
          "height": 109
        },
        "outputId": "fb3d591c-37b4-495e-b135-bb7ab18fe044"
      },
      "source": [
        "from matplotlib import pyplot as plt\n",
        "gen = datagen.flow(TrainX[0:1], batch_size=1)\n",
        "for i in range(1, 6):\n",
        "    plt.subplot(1,5,i)\n",
        "    plt.axis(\"off\")\n",
        "    plt.imshow(gen.next().squeeze(), cmap='gray')\n",
        "    plt.plot()\n",
        "plt.show()"
      ],
      "execution_count": 108,
      "outputs": [
        {
          "output_type": "display_data",
          "data": {
            "image/png": "[encoded data removed]",
            "text/plain": [
              "<Figure size 432x288 with 5 Axes>"
            ]
          },
          "metadata": {
            "tags": []
          }
        }
      ]
    },
    {
      "cell_type": "markdown",
      "metadata": {
        "id": "dmPl5yE8Jjwm",
        "colab_type": "text"
      },
      "source": [
        "### Run the above model using fit_generator()"
      ]
    },
    {
      "cell_type": "code",
      "metadata": {
        "id": "44ZnDdJYJjwn",
        "colab_type": "code",
        "colab": {}
      },
      "source": [
        "import numpy as np\n",
        "\n",
        "img_generator= tf.keras.preprocessing.image.ImageDataGenerator(rotation_range=20,\n",
        "                                                                   width_shift_range=0.2,\n",
        "                                                                   height_shift_range=0.2,\n",
        "                                                                   horizontal_flip=True)  \n",
        "img_generator.fit(TrainX)"
      ],
      "execution_count": 0,
      "outputs": []
    },
    {
      "cell_type": "code",
      "metadata": {
        "id": "C_it9r5HXx02",
        "colab_type": "code",
        "colab": {
          "base_uri": "https://localhost:8080/",
          "height": 443
        },
        "outputId": "e37bd0da-cab1-46d9-931a-d45f4771bfbd"
      },
      "source": [
        "#Initialize model, reshape & normalize data\n",
        "model = tf.keras.models.Sequential()\n",
        "# Define input layer\n",
        "model.add(tf.keras.layers.BatchNormalization(input_shape=(img_size,img_size,1,)))\n",
        "model.add(tf.keras.layers.Conv2D(32, kernel_size=(3,3), activation='relu'))\n",
        "model.add(tf.keras.layers.Conv2D(32, kernel_size=(3,3), activation='relu'))\n",
        "model.add(tf.keras.layers.MaxPool2D(pool_size=(2,2)))\n",
        "model.add(tf.keras.layers.Dropout(0.25))\n",
        "model.add(tf.keras.layers.Flatten())\n",
        "model.add(tf.keras.layers.Dense(128, activation='relu'))\n",
        "model.add(tf.keras.layers.Dense(10, activation='softmax'))\n",
        "model.compile(optimizer='adam', loss='categorical_crossentropy', metrics=['accuracy'])\n",
        "model.summary()"
      ],
      "execution_count": 110,
      "outputs": [
        {
          "output_type": "stream",
          "text": [
            "Model: \"sequential_4\"\n",
            "_________________________________________________________________\n",
            "Layer (type)                 Output Shape              Param #   \n",
            "=================================================================\n",
            "batch_normalization_2 (Batch (None, 28, 28, 1)         4         \n",
            "_________________________________________________________________\n",
            "conv2d_12 (Conv2D)           (None, 26, 26, 32)        320       \n",
            "_________________________________________________________________\n",
            "conv2d_13 (Conv2D)           (None, 24, 24, 32)        9248      \n",
            "_________________________________________________________________\n",
            "max_pooling2d_1 (MaxPooling2 (None, 12, 12, 32)        0         \n",
            "_________________________________________________________________\n",
            "dropout_1 (Dropout)          (None, 12, 12, 32)        0         \n",
            "_________________________________________________________________\n",
            "flatten_6 (Flatten)          (None, 4608)              0         \n",
            "_________________________________________________________________\n",
            "dense_12 (Dense)             (None, 128)               589952    \n",
            "_________________________________________________________________\n",
            "dense_13 (Dense)             (None, 10)                1290      \n",
            "=================================================================\n",
            "Total params: 600,814\n",
            "Trainable params: 600,812\n",
            "Non-trainable params: 2\n",
            "_________________________________________________________________\n"
          ],
          "name": "stdout"
        }
      ]
    },
    {
      "cell_type": "code",
      "metadata": {
        "id": "wi82hQBlYH1H",
        "colab_type": "code",
        "colab": {
          "base_uri": "https://localhost:8080/",
          "height": 1000
        },
        "outputId": "4295acff-78fc-400b-cd60-231d79ddbe70"
      },
      "source": [
        "model.fit_generator(img_generator.flow(TrainX, y_train, batch_size = 32), \n",
        "                          epochs=50,\n",
        "                          steps_per_epoch= TrainX.shape[0]//batchsize,\n",
        "                          validation_data=(TestX, y_test),\n",
        "                          validation_steps = TestX.shape[0]//batchsize)"
      ],
      "execution_count": 111,
      "outputs": [
        {
          "output_type": "stream",
          "text": [
            "Epoch 1/50\n",
            "1875/1875 [==============================] - 19s 10ms/step - loss: 0.7972 - acc: 0.7026 - val_loss: 0.6096 - val_acc: 0.7618\n",
            "Epoch 2/50\n",
            "1875/1875 [==============================] - 19s 10ms/step - loss: 0.6016 - acc: 0.7735 - val_loss: 0.5138 - val_acc: 0.8022\n",
            "Epoch 3/50\n",
            "1875/1875 [==============================] - 19s 10ms/step - loss: 0.5391 - acc: 0.7981 - val_loss: 0.4494 - val_acc: 0.8340\n",
            "Epoch 4/50\n",
            "1875/1875 [==============================] - 19s 10ms/step - loss: 0.4985 - acc: 0.8145 - val_loss: 0.4886 - val_acc: 0.8177\n",
            "Epoch 5/50\n",
            "1875/1875 [==============================] - 19s 10ms/step - loss: 0.4797 - acc: 0.8233 - val_loss: 0.3973 - val_acc: 0.8569\n",
            "Epoch 6/50\n",
            "1875/1875 [==============================] - 19s 10ms/step - loss: 0.4598 - acc: 0.8286 - val_loss: 0.4206 - val_acc: 0.8454\n",
            "Epoch 7/50\n",
            "1875/1875 [==============================] - 19s 10ms/step - loss: 0.4474 - acc: 0.8344 - val_loss: 0.4112 - val_acc: 0.8505\n",
            "Epoch 8/50\n",
            "1875/1875 [==============================] - 19s 10ms/step - loss: 0.4367 - acc: 0.8406 - val_loss: 0.3569 - val_acc: 0.8720\n",
            "Epoch 9/50\n",
            "1875/1875 [==============================] - 19s 10ms/step - loss: 0.4250 - acc: 0.8439 - val_loss: 0.3544 - val_acc: 0.8753\n",
            "Epoch 10/50\n",
            "1875/1875 [==============================] - 19s 10ms/step - loss: 0.4175 - acc: 0.8459 - val_loss: 0.3564 - val_acc: 0.8728\n",
            "Epoch 11/50\n",
            "1875/1875 [==============================] - 19s 10ms/step - loss: 0.4097 - acc: 0.8486 - val_loss: 0.4098 - val_acc: 0.8615\n",
            "Epoch 12/50\n",
            "1875/1875 [==============================] - 19s 10ms/step - loss: 0.4060 - acc: 0.8507 - val_loss: 0.3374 - val_acc: 0.8819\n",
            "Epoch 13/50\n",
            "1875/1875 [==============================] - 19s 10ms/step - loss: 0.3981 - acc: 0.8537 - val_loss: 0.3334 - val_acc: 0.8773\n",
            "Epoch 14/50\n",
            "1875/1875 [==============================] - 19s 10ms/step - loss: 0.3963 - acc: 0.8529 - val_loss: 0.3413 - val_acc: 0.8784\n",
            "Epoch 15/50\n",
            "1875/1875 [==============================] - 19s 10ms/step - loss: 0.3889 - acc: 0.8570 - val_loss: 0.3457 - val_acc: 0.8764\n",
            "Epoch 16/50\n",
            "1875/1875 [==============================] - 19s 10ms/step - loss: 0.3849 - acc: 0.8584 - val_loss: 0.3175 - val_acc: 0.8866\n",
            "Epoch 17/50\n",
            "1875/1875 [==============================] - 19s 10ms/step - loss: 0.3810 - acc: 0.8604 - val_loss: 0.3438 - val_acc: 0.8780\n",
            "Epoch 18/50\n",
            "1875/1875 [==============================] - 19s 10ms/step - loss: 0.3788 - acc: 0.8616 - val_loss: 0.3275 - val_acc: 0.8794\n",
            "Epoch 19/50\n",
            "1875/1875 [==============================] - 19s 10ms/step - loss: 0.3786 - acc: 0.8609 - val_loss: 0.3281 - val_acc: 0.8834\n",
            "Epoch 20/50\n",
            "1875/1875 [==============================] - 19s 10ms/step - loss: 0.3725 - acc: 0.8621 - val_loss: 0.3355 - val_acc: 0.8801\n",
            "Epoch 21/50\n",
            "1875/1875 [==============================] - 19s 10ms/step - loss: 0.3675 - acc: 0.8655 - val_loss: 0.3167 - val_acc: 0.8863\n",
            "Epoch 22/50\n",
            "1875/1875 [==============================] - 19s 10ms/step - loss: 0.3693 - acc: 0.8626 - val_loss: 0.3192 - val_acc: 0.8866\n",
            "Epoch 23/50\n",
            "1875/1875 [==============================] - 19s 10ms/step - loss: 0.3605 - acc: 0.8678 - val_loss: 0.3154 - val_acc: 0.8884\n",
            "Epoch 24/50\n",
            "1875/1875 [==============================] - 19s 10ms/step - loss: 0.3627 - acc: 0.8665 - val_loss: 0.3278 - val_acc: 0.8833\n",
            "Epoch 25/50\n",
            "1875/1875 [==============================] - 19s 10ms/step - loss: 0.3563 - acc: 0.8678 - val_loss: 0.3083 - val_acc: 0.8913\n",
            "Epoch 26/50\n",
            "1875/1875 [==============================] - 19s 10ms/step - loss: 0.3589 - acc: 0.8676 - val_loss: 0.3095 - val_acc: 0.8914\n",
            "Epoch 27/50\n",
            "1875/1875 [==============================] - 18s 10ms/step - loss: 0.3554 - acc: 0.8687 - val_loss: 0.3206 - val_acc: 0.8867\n",
            "Epoch 28/50\n",
            "1875/1875 [==============================] - 19s 10ms/step - loss: 0.3531 - acc: 0.8702 - val_loss: 0.3187 - val_acc: 0.8875\n",
            "Epoch 29/50\n",
            "1875/1875 [==============================] - 19s 10ms/step - loss: 0.3502 - acc: 0.8709 - val_loss: 0.3079 - val_acc: 0.8920\n",
            "Epoch 30/50\n",
            "1875/1875 [==============================] - 18s 10ms/step - loss: 0.3504 - acc: 0.8704 - val_loss: 0.3096 - val_acc: 0.8886\n",
            "Epoch 31/50\n",
            "1875/1875 [==============================] - 19s 10ms/step - loss: 0.3504 - acc: 0.8724 - val_loss: 0.3057 - val_acc: 0.8879\n",
            "Epoch 32/50\n",
            "1875/1875 [==============================] - 18s 10ms/step - loss: 0.3490 - acc: 0.8727 - val_loss: 0.2963 - val_acc: 0.8942\n",
            "Epoch 33/50\n",
            "1875/1875 [==============================] - 19s 10ms/step - loss: 0.3450 - acc: 0.8727 - val_loss: 0.2950 - val_acc: 0.8945\n",
            "Epoch 34/50\n",
            "1875/1875 [==============================] - 18s 10ms/step - loss: 0.3457 - acc: 0.8732 - val_loss: 0.3259 - val_acc: 0.8837\n",
            "Epoch 35/50\n",
            "1875/1875 [==============================] - 18s 10ms/step - loss: 0.3413 - acc: 0.8751 - val_loss: 0.2957 - val_acc: 0.8926\n",
            "Epoch 36/50\n",
            "1875/1875 [==============================] - 18s 10ms/step - loss: 0.3398 - acc: 0.8765 - val_loss: 0.3043 - val_acc: 0.8892\n",
            "Epoch 37/50\n",
            "1875/1875 [==============================] - 18s 10ms/step - loss: 0.3429 - acc: 0.8734 - val_loss: 0.3094 - val_acc: 0.8875\n",
            "Epoch 38/50\n",
            "1875/1875 [==============================] - 18s 10ms/step - loss: 0.3395 - acc: 0.8752 - val_loss: 0.3081 - val_acc: 0.8874\n",
            "Epoch 39/50\n",
            "1875/1875 [==============================] - 18s 10ms/step - loss: 0.3365 - acc: 0.8765 - val_loss: 0.3042 - val_acc: 0.8926\n",
            "Epoch 40/50\n",
            "1875/1875 [==============================] - 18s 10ms/step - loss: 0.3355 - acc: 0.8771 - val_loss: 0.2992 - val_acc: 0.8922\n",
            "Epoch 41/50\n",
            "1875/1875 [==============================] - 18s 10ms/step - loss: 0.3367 - acc: 0.8776 - val_loss: 0.3181 - val_acc: 0.8846\n",
            "Epoch 42/50\n",
            "1875/1875 [==============================] - 19s 10ms/step - loss: 0.3333 - acc: 0.8775 - val_loss: 0.3194 - val_acc: 0.8814\n",
            "Epoch 43/50\n",
            "1875/1875 [==============================] - 18s 10ms/step - loss: 0.3335 - acc: 0.8784 - val_loss: 0.3009 - val_acc: 0.8921\n",
            "Epoch 44/50\n",
            "1875/1875 [==============================] - 19s 10ms/step - loss: 0.3306 - acc: 0.8801 - val_loss: 0.3072 - val_acc: 0.8881\n",
            "Epoch 45/50\n",
            "1875/1875 [==============================] - 18s 10ms/step - loss: 0.3279 - acc: 0.8794 - val_loss: 0.2994 - val_acc: 0.8916\n",
            "Epoch 46/50\n",
            "1875/1875 [==============================] - 18s 10ms/step - loss: 0.3294 - acc: 0.8789 - val_loss: 0.2980 - val_acc: 0.8949\n",
            "Epoch 47/50\n",
            "1875/1875 [==============================] - 18s 10ms/step - loss: 0.3279 - acc: 0.8806 - val_loss: 0.2901 - val_acc: 0.8992\n",
            "Epoch 48/50\n",
            "1875/1875 [==============================] - 19s 10ms/step - loss: 0.3266 - acc: 0.8797 - val_loss: 0.3105 - val_acc: 0.8933\n",
            "Epoch 49/50\n",
            "1875/1875 [==============================] - 18s 10ms/step - loss: 0.3255 - acc: 0.8801 - val_loss: 0.3008 - val_acc: 0.8924\n",
            "Epoch 50/50\n",
            "1875/1875 [==============================] - 18s 10ms/step - loss: 0.3234 - acc: 0.8812 - val_loss: 0.2953 - val_acc: 0.8943\n"
          ],
          "name": "stdout"
        },
        {
          "output_type": "execute_result",
          "data": {
            "text/plain": [
              "<tensorflow.python.keras.callbacks.History at 0x7fd357fa15c0>"
            ]
          },
          "metadata": {
            "tags": []
          },
          "execution_count": 111
        }
      ]
    },
    {
      "cell_type": "markdown",
      "metadata": {
        "id": "MwQQW5iOJjwq",
        "colab_type": "text"
      },
      "source": [
        "###  Report the final train and validation accuracy"
      ]
    },
    {
      "cell_type": "code",
      "metadata": {
        "id": "c1SrtBEPJjwq",
        "colab_type": "code",
        "colab": {
          "base_uri": "https://localhost:8080/",
          "height": 51
        },
        "outputId": "2fb3bed7-48b4-48f8-af39-f5448ab3e4bc"
      },
      "source": [
        "scores = model.evaluate(TestX, y_test)\n",
        "scores[1]*100"
      ],
      "execution_count": 116,
      "outputs": [
        {
          "output_type": "stream",
          "text": [
            "10000/10000 [==============================] - 1s 80us/sample - loss: 0.2950 - acc: 0.8943\n"
          ],
          "name": "stdout"
        },
        {
          "output_type": "execute_result",
          "data": {
            "text/plain": [
              "89.42999839782715"
            ]
          },
          "metadata": {
            "tags": []
          },
          "execution_count": 116
        }
      ]
    },
    {
      "cell_type": "markdown",
      "metadata": {
        "id": "8KXqmUDW2rM1",
        "colab_type": "text"
      },
      "source": [
        "## **DATA AUGMENTATION ON CIFAR10 DATASET**"
      ]
    },
    {
      "cell_type": "markdown",
      "metadata": {
        "id": "8mja6OgQ3L18",
        "colab_type": "text"
      },
      "source": [
        "One of the best ways to improve the performance of a Deep Learning model is to add more data to the training set. Aside from gathering more instances from the wild that are representative of the distinction task, we want to develop a set of methods that enhance the data we already have. There are many ways to augment existing datasets and produce more robust models. In the image domain, these are done to utilize the full power of the convolutional neural network, which is able to capture translational invariance. This translational invariance is what makes image recognition such a difficult task in the first place. You want the dataset to be representative of the many different positions, angles, lightings, and miscellaneous distortions that are of interest to the vision task."
      ]
    },
    {
      "cell_type": "markdown",
      "metadata": {
        "id": "6HzVTPUM3WZJ",
        "colab_type": "text"
      },
      "source": [
        "### **Import neessary libraries for data augmentation**"
      ]
    },
    {
      "cell_type": "code",
      "metadata": {
        "id": "PPM558TX4KMb",
        "colab_type": "code",
        "colab": {}
      },
      "source": [
        "from __future__ import print_function\n",
        "import keras\n",
        "from keras.datasets import cifar10\n",
        "from keras.preprocessing.image import ImageDataGenerator\n",
        "from keras.models import Sequential\n",
        "from keras.layers import Dense, Dropout, Activation, Flatten\n",
        "from keras.layers import Conv2D, MaxPooling2D"
      ],
      "execution_count": 0,
      "outputs": []
    },
    {
      "cell_type": "markdown",
      "metadata": {
        "id": "W6hicLwP4SqY",
        "colab_type": "text"
      },
      "source": [
        "### **Load CIFAR10 dataset**"
      ]
    },
    {
      "cell_type": "code",
      "metadata": {
        "id": "NQ1WzrXd4WNk",
        "colab_type": "code",
        "colab": {}
      },
      "source": [
        "batch_size = 32\n",
        "num_classes = 10\n",
        "epochs = 100\n",
        "data_augmentation = True\n",
        "num_predictions = 20\n",
        "save_dir = os.path.join(os.getcwd(), 'saved_models')\n",
        "model_name = 'keras_cifar10_trained_model.h5'"
      ],
      "execution_count": 0,
      "outputs": []
    },
    {
      "cell_type": "code",
      "metadata": {
        "id": "R9Pht1ggHuiT",
        "colab_type": "code",
        "colab": {
          "base_uri": "https://localhost:8080/",
          "height": 70
        },
        "outputId": "c03bfcaf-7ab2-4969-cc0d-e7dd49fd81b7"
      },
      "source": [
        "# The data, split between train and test sets:\n",
        "(xtrain, ytrain), (xtest, ytest) = cifar10.load_data()\n",
        "print('x_train shape:', xtrain.shape)\n",
        "print(xtrain.shape[0], 'train samples')\n",
        "print(xtest.shape[0], 'test samples')"
      ],
      "execution_count": 131,
      "outputs": [
        {
          "output_type": "stream",
          "text": [
            "x_train shape: (50000, 32, 32, 3)\n",
            "50000 train samples\n",
            "10000 test samples\n"
          ],
          "name": "stdout"
        }
      ]
    },
    {
      "cell_type": "code",
      "metadata": {
        "id": "3n28ccU6Hp6s",
        "colab_type": "code",
        "colab": {}
      },
      "source": [
        "# Convert class vectors to binary class matrices.\n",
        "ytrain = keras.utils.to_categorical(ytrain, num_classes)\n",
        "ytest = keras.utils.to_categorical(ytest, num_classes)"
      ],
      "execution_count": 0,
      "outputs": []
    },
    {
      "cell_type": "code",
      "metadata": {
        "id": "Ozo2GaS-dRMk",
        "colab_type": "code",
        "colab": {}
      },
      "source": [
        "xtrain = xtrain.astype('float32')\n",
        "xtest = xtest.astype('float32')\n",
        "xtrain /= 255\n",
        "xtest /= 255"
      ],
      "execution_count": 0,
      "outputs": []
    },
    {
      "cell_type": "markdown",
      "metadata": {
        "id": "JN3vYYhK4W0u",
        "colab_type": "text"
      },
      "source": [
        "### **Create a data_gen funtion to genererator with image rotation,shifting image horizontally and vertically with random flip horizontally.**"
      ]
    },
    {
      "cell_type": "code",
      "metadata": {
        "id": "JJbekTKi4cmM",
        "colab_type": "code",
        "colab": {}
      },
      "source": [
        "def batch_generator(df, batchsize=32, train_mode=True):   \n",
        "    \n",
        "    img_generator= tf.keras.preprocessing.image.ImageDataGenerator(rotation_range=20,\n",
        "                                                                   width_shift_range=0.2,\n",
        "                                                                   height_shift_range=0.2,\n",
        "                                                                   horizontal_flip=True)\n",
        "    img_generator.fit(xtrain)    "
      ],
      "execution_count": 0,
      "outputs": []
    },
    {
      "cell_type": "markdown",
      "metadata": {
        "id": "e-SLtUhC4dK2",
        "colab_type": "text"
      },
      "source": [
        "### **Prepare/fit the generator.**"
      ]
    },
    {
      "cell_type": "code",
      "metadata": {
        "id": "-vqltSZWhw68",
        "colab_type": "code",
        "colab": {}
      },
      "source": [
        "model = tf.keras.models.Sequential()\n",
        "model.add(tf.keras.layers.Conv2D(32, kernel_size=(3,3), activation='relu'))\n",
        "model.add(tf.keras.layers.Conv2D(64, kernel_size=(3,3), activation='relu'))\n",
        "model.add(tf.keras.layers.MaxPool2D(pool_size=(2,2)))\n",
        "model.add(tf.keras.layers.Flatten())\n",
        "model.add(tf.keras.layers.Dense(128, activation='relu'))\n",
        "model.add(tf.keras.layers.Dropout(0.25))\n",
        "\n",
        "#Output layer\n",
        "model.add(tf.keras.layers.Dense(10, activation='softmax'))"
      ],
      "execution_count": 0,
      "outputs": []
    },
    {
      "cell_type": "code",
      "metadata": {
        "id": "51o4S4gfhzqf",
        "colab_type": "code",
        "colab": {}
      },
      "source": [
        "model.compile(optimizer='adam', loss='categorical_crossentropy', metrics=['accuracy'])"
      ],
      "execution_count": 0,
      "outputs": []
    },
    {
      "cell_type": "code",
      "metadata": {
        "id": "rZ8kB150eanB",
        "colab_type": "code",
        "colab": {
          "base_uri": "https://localhost:8080/",
          "height": 390
        },
        "outputId": "eab596d1-0dbc-426e-94e5-1e11a24e5b93"
      },
      "source": [
        "model.fit_generator(img_generator.flow(xtrain, ytrain, batch_size = 32), \n",
        "                          epochs=10,\n",
        "                          steps_per_epoch= xtrain.shape[0]//batchsize,\n",
        "                          validation_data=(xtest,ytest),\n",
        "                          validation_steps = xtest.shape[0]//batchsize)"
      ],
      "execution_count": 141,
      "outputs": [
        {
          "output_type": "stream",
          "text": [
            "Epoch 1/10\n",
            "1562/1562 [==============================] - 26s 16ms/step - loss: 1.7084 - acc: 0.3165 - val_loss: 1.3257 - val_acc: 0.5238\n",
            "Epoch 2/10\n",
            "1562/1562 [==============================] - 25s 16ms/step - loss: 1.4670 - acc: 0.4588 - val_loss: 1.1965 - val_acc: 0.5669\n",
            "Epoch 3/10\n",
            "1562/1562 [==============================] - 25s 16ms/step - loss: 1.3842 - acc: 0.4958 - val_loss: 1.2003 - val_acc: 0.5661\n",
            "Epoch 4/10\n",
            "1562/1562 [==============================] - 25s 16ms/step - loss: 1.3351 - acc: 0.5186 - val_loss: 1.1098 - val_acc: 0.5994\n",
            "Epoch 5/10\n",
            "1562/1562 [==============================] - 25s 16ms/step - loss: 1.2927 - acc: 0.5370 - val_loss: 1.1044 - val_acc: 0.6070\n",
            "Epoch 6/10\n",
            "1562/1562 [==============================] - 25s 16ms/step - loss: 1.2637 - acc: 0.5507 - val_loss: 1.0984 - val_acc: 0.6160\n",
            "Epoch 7/10\n",
            "1562/1562 [==============================] - 25s 16ms/step - loss: 1.2372 - acc: 0.5533 - val_loss: 1.0546 - val_acc: 0.6296\n",
            "Epoch 8/10\n",
            "1562/1562 [==============================] - 25s 16ms/step - loss: 1.2207 - acc: 0.5641 - val_loss: 1.0165 - val_acc: 0.6400\n",
            "Epoch 9/10\n",
            "1562/1562 [==============================] - 25s 16ms/step - loss: 1.2029 - acc: 0.5749 - val_loss: 1.0287 - val_acc: 0.6349\n",
            "Epoch 10/10\n",
            "1562/1562 [==============================] - 25s 16ms/step - loss: 1.1850 - acc: 0.5763 - val_loss: 1.0702 - val_acc: 0.6360\n"
          ],
          "name": "stdout"
        },
        {
          "output_type": "execute_result",
          "data": {
            "text/plain": [
              "<tensorflow.python.keras.callbacks.History at 0x7fd349741d30>"
            ]
          },
          "metadata": {
            "tags": []
          },
          "execution_count": 141
        }
      ]
    },
    {
      "cell_type": "markdown",
      "metadata": {
        "id": "gYyF-P8O4jQ8",
        "colab_type": "text"
      },
      "source": [
        "### **Generate 5 images for 1 of the image of CIFAR10 train dataset.**"
      ]
    },
    {
      "cell_type": "code",
      "metadata": {
        "id": "6cUCZm_deVcc",
        "colab_type": "code",
        "colab": {
          "base_uri": "https://localhost:8080/",
          "height": 108
        },
        "outputId": "0928991c-e7e1-40a5-c974-959b61a432be"
      },
      "source": [
        "from matplotlib import pyplot as plt\n",
        "gen = datagen.flow(x_train[0:1], batch_size=1)\n",
        "for i in range(1, 6):\n",
        "    plt.subplot(1,5,i)\n",
        "    plt.axis(\"off\")\n",
        "    plt.imshow(gen.next().squeeze(), cmap='gray')\n",
        "    plt.plot()\n",
        "plt.show()"
      ],
      "execution_count": 55,
      "outputs": [
        {
          "output_type": "display_data",
          "data": {
            "image/png": "[encoded data removed]",
            "text/plain": [
              "<Figure size 432x288 with 5 Axes>"
            ]
          },
          "metadata": {
            "tags": []
          }
        }
      ]
    }
  ]
}