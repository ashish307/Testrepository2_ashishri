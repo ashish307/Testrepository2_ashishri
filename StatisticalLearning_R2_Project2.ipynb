{
 "cells": [
  {
   "cell_type": "code",
   "execution_count": 1,
   "metadata": {},
   "outputs": [
    {
     "name": "stdout",
     "output_type": "stream",
     "text": [
      "Mean of old scheme:\n"
     ]
    },
    {
     "data": {
      "text/plain": [
       "68.03333333333333"
      ]
     },
     "execution_count": 1,
     "metadata": {},
     "output_type": "execute_result"
    }
   ],
   "source": [
    "import pandas as pd\n",
    "from scipy.stats import  ttest_ind, wilcoxon\n",
    "from statsmodels.stats.power import ttest_power\n",
    "import numpy as np\n",
    "df = pd.read_csv('data.csv')\n",
    "\n",
    "#df['Old Scheme (in thousands)'] = df['Old Scheme (in thousands)'].astype('int64')\n",
    "df['New Scheme (in thousands)'] = df['New Scheme (in thousands)'].astype('int64')\n",
    "\n",
    "#New_Scheme = df[:,2]\n",
    "print (\"Mean of old scheme:\")\n",
    "np.mean(df['Old Scheme (in thousands)'])\n"
   ]
  },
  {
   "cell_type": "code",
   "execution_count": 2,
   "metadata": {},
   "outputs": [
    {
     "name": "stdout",
     "output_type": "stream",
     "text": [
      "Mean of New scheme:\n"
     ]
    },
    {
     "data": {
      "text/plain": [
       "72.03333333333333"
      ]
     },
     "execution_count": 2,
     "metadata": {},
     "output_type": "execute_result"
    }
   ],
   "source": [
    "df['Old Scheme (in thousands)'] = df['Old Scheme (in thousands)'].astype('int64')\n",
    "print (\"Mean of New scheme:\")\n",
    "np.mean(df['New Scheme (in thousands)'])"
   ]
  },
  {
   "cell_type": "code",
   "execution_count": 3,
   "metadata": {},
   "outputs": [
    {
     "name": "stdout",
     "output_type": "stream",
     "text": [
      "Ttest_indResult(statistic=-0.6937067608923764, pvalue=0.49063515686248105)\n"
     ]
    }
   ],
   "source": [
    "# two-sample t-test\n",
    "# null hypothesis: two schmes have the same mean\n",
    "# Alternate Hypothesis: Two schemes does not have same mean\n",
    "# this test assumes the two groups have the same variance...\n",
    "\n",
    "p_value = ttest_ind(df['Old Scheme (in thousands)'], df['New Scheme (in thousands)'])\n",
    "print(p_value)    "
   ]
  },
  {
   "cell_type": "code",
   "execution_count": 4,
   "metadata": {},
   "outputs": [
    {
     "name": "stdout",
     "output_type": "stream",
     "text": [
      "two-sample wilcoxon-test p-value= 0.06116952762758769\n"
     ]
    }
   ],
   "source": [
    "u, p_value = wilcoxon(df['Old Scheme (in thousands)'], df['New Scheme (in thousands)'])\n",
    "print (\"two-sample wilcoxon-test p-value=\", p_value)"
   ]
  },
  {
   "cell_type": "code",
   "execution_count": 5,
   "metadata": {},
   "outputs": [
    {
     "name": "stdout",
     "output_type": "stream",
     "text": [
      "Conclusion from p-value is that Null hypothesis can be rejected \n"
     ]
    }
   ],
   "source": [
    "# As we see that p value is not less than 5% by considering both options\n",
    "# whether both old and new schemes might have variance or not\n",
    "# Hence null can be rejected\n",
    "print (\"Conclusion from p-value is that Null hypothesis can be rejected \")"
   ]
  },
  {
   "cell_type": "code",
   "execution_count": 6,
   "metadata": {},
   "outputs": [
    {
     "name": "stdout",
     "output_type": "stream",
     "text": [
      "Probabitlity of type 1 error = 0.06116952762758769\n"
     ]
    }
   ],
   "source": [
    "# calculate Z statistics for finding probability of average is increased by 5000 or P>0.05\n",
    "z_statistic, p_value = wilcoxon(df['New Scheme (in thousands)'] - df['Old Scheme (in thousands)'])\n",
    "print (\"Probabitlity of type 1 error =\", p_value)"
   ]
  },
  {
   "cell_type": "code",
   "execution_count": 7,
   "metadata": {},
   "outputs": [
    {
     "name": "stdout",
     "output_type": "stream",
     "text": [
      "Null hypothesis is accepted\n"
     ]
    }
   ],
   "source": [
    "(np.mean(df['Old Scheme (in thousands)']) - np.mean(df['New Scheme (in thousands)'])) / np.sqrt(((30-1)*np.var(df['Old Scheme (in thousands)'])+(30-1)*np.var(df['New Scheme (in thousands)'])) / 30+30-2)\n",
    "print(\"Null hypothesis is accepted\")"
   ]
  },
  {
   "cell_type": "code",
   "execution_count": 8,
   "metadata": {},
   "outputs": [
    {
     "name": "stdout",
     "output_type": "stream",
     "text": [
      "0.10098297488406097\n"
     ]
    }
   ],
   "source": [
    "print(ttest_power(-0.129, nobs=28, alpha=0.05, alternative='two-sided'))\n"
   ]
  }
 ],
 "metadata": {
  "kernelspec": {
   "display_name": "Python 3",
   "language": "python",
   "name": "python3"
  },
  "language_info": {
   "codemirror_mode": {
    "name": "ipython",
    "version": 3
   },
   "file_extension": ".py",
   "mimetype": "text/x-python",
   "name": "python",
   "nbconvert_exporter": "python",
   "pygments_lexer": "ipython3",
   "version": "3.7.1"
  }
 },
 "nbformat": 4,
 "nbformat_minor": 2
}
